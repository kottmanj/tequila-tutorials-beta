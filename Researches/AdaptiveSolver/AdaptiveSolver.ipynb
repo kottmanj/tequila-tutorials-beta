{
 "cells": [
  {
   "metadata": {},
   "cell_type": "markdown",
   "source": [
    "---\n",
    "title: \"Adaptive Solver\"\n",
    "author:\n",
    "    - name: Jakob Kottmann\n",
    "    - name: adapted by Thuy Truong\n",
    "date: \"2024-09-03\"\n",
    "categories: [code]\n",
    "image: Preview_AdaptiveSolver.png\n",
    "format:\n",
    "    html:\n",
    "        code-fold: false\n",
    "        eval: true\n",
    "jupyter: blogqa\n",
    "---"
   ]
  },
  {
   "cell_type": "markdown",
   "metadata": {},
   "source": [
    "# Adaptive Solver"
   ]
  },
  {
   "cell_type": "markdown",
   "metadata": {},
   "source": [
    "This is a short demonstration of the generalized adaptive solver from:  \n",
    "J.S. Kottmann, A. Anand, A. Aspuru-Guzik, \"A feasible approach for automatically differentiable unitary coupled-cluster on quantum computers\".  \n",
    "See: [doi.org/10.1039/D0SC06627C](https://doi.org/10.1039/D0SC06627C) for more details. \n",
    "\n",
    "<img src=\"adaptive_general.png\" alt=\"Drawing\" style=\"width: 400px;\"/>\n",
    "\n",
    "This tutorial contains the usage for the generalized adaptive solver, it does not discuss the underlying machinery for the fermionic gradients (they are automatically constructed in the background and are used for screening and optimization. See the printouts of the optimizers for information about the expectation values in the objectives and gradients). \n",
    "\n",
    "Fore more information about adaptive solvers, we also recommend to look at the original works on adaptive solvers by [Grimsley](https://doi.org/10.1038/s41467-019-10988-2) and [Ryabinkin](https://doi.org/10.1021/acs.jctc.8b00932):\n",
    "\n",
    "In order to execute this tutorial properly you need to:\n",
    "- checkout the `devel` branch of tequila (the adapt solver is not yet part of the main branch):  \n",
    " `pip install git+https://github.com/aspuru-guzik-group/tequila/tree/devel.git`\n",
    "- have `qpic` installed to display the circuits: `pip install qpic`\n",
    "\n",
    "General introduction to `tequila` and it's chemistry modules can be found in separate tutorials:\n",
    "- Basic usace of `tequila`: [BasicUsage](https://github.com/aspuru-guzik-group/tequila-tutorials/blob/main/BasicUsage.ipynb)\n",
    "- Basics with tequila, psi4 and our automatically differentiable framework: [Chemistry.ipynb](https://github.com/aspuru-guzik-group/tequila-tutorials/blob/main/Chemistry.ipynb)\n",
    "- Another example for an excited state solver (same principle, less abstraction): [ChemistryExcitedState.ipynb](https://github.com/aspuru-guzik-group/tequila-tutorials/blob/main/ChemistryExcitedState.ipynb)\n",
    "- Basics of our basis-set-free `madness` interface, that can be used with the adaptive solvers here as well: [ChemistryMadnessInterface.ipynb](https://github.com/aspuru-guzik-group/tequila-tutorials/blob/main/ChemistryMadnessInterface.ipynb)"
   ]
  },
  {
   "cell_type": "code",
   "metadata": {
    "ExecuteTime": {
     "end_time": "2024-09-03T15:04:20.048414Z",
     "start_time": "2024-09-03T15:04:20.043611Z"
    }
   },
   "source": [
    "import tequila as tq\n",
    "import numpy\n",
    "from IPython.display import Image\n",
    "\n",
    "# small helper functions to display nicer circuits\n",
    "def show(circuit, name=None, *args, **kwargs):\n",
    "    tq.circuit.export_to(circuit, \"{}.png\".format(name), *args, **kwargs)\n",
    "    return Image(\"{}.png\".format(name), *args, **kwargs)\n",
    "\n",
    "# this is how it works\n",
    "circuit = tq.gates.ExpPauli(paulistring=\"X(0)Y(2)\", angle=1.0)"
   ],
   "outputs": [],
   "execution_count": 15
  },
  {
   "cell_type": "markdown",
   "metadata": {},
   "source": [
    "![](fig1.png){width=25%}\n",
    "\n",
    "Note that circuits will be represented by their generator in primitive Pauli Rotations so the picture above represents $$e^{-i\\frac{\\theta}{2} \\sigma_x(0) \\sigma_y(2)} \\equiv e^{-i\\frac{\\theta}{2} X(0) Y(2)}$$ "
   ]
  },
  {
   "cell_type": "code",
   "metadata": {
    "ExecuteTime": {
     "end_time": "2024-09-03T15:04:25.368767Z",
     "start_time": "2024-09-03T15:04:25.364981Z"
    }
   },
   "source": [
    "#| code-fold: true\n",
    "# failsafe\n",
    "try:\n",
    "    test = tq.adapt\n",
    "except:\n",
    "    print(\"It seems you have the wrong version of tequila checked out. Please check out the `devel` branch. Or re-install with\\npip install git+https://github.com/aspuru-guzik-group/tequila/tree/devel.git\")"
   ],
   "outputs": [],
   "execution_count": 16
  },
  {
   "cell_type": "markdown",
   "metadata": {},
   "source": [
    "## A one-qubit example\n",
    "\n",
    "We start with a simple one-qubit example.  \n",
    "Of course one would not need an adaptive solver for this, but it executes fast!  \n",
    "\n",
    "Our circuit will be constructed as in the picture above with:\n",
    "$$ U_{\\text{Pre}} = X $$\n",
    "$$ U_{\\text{Post}} = Y $$\n",
    "\n",
    "For the adaptive part, we construct an operator pool consisting of the operations:\n",
    "$$ \\text{operator\\_pool} = \\left\\{ e^{-i\\frac{\\theta}{2} X}, e^{-i\\frac{\\theta}{2} Y}, e^{-i\\frac{\\theta}{2} Z} \\right\\} $$\n",
    "In the code block, the operator_pool is initialized over it's generators (here: $X,Y,Z$). \n",
    "\n",
    "The target will be to minimize the expectation value over $X$:\n",
    "$$ \\min_{\\boldsymbol{\\theta}} \\langle X \\rangle_{U_{\\text{Post}}U_{\\text{Adapt}(\\boldsymbol{\\theta})}U_{\\text{Pre}}}$$\n",
    "\n",
    "After the adapt solver is initialized, it can be called. \n",
    "The usual keywords for quantum backend and optimizer can be passed at construction of the solver via `compiler_args={backend=\"qiskit\", samples=1000}` and `optimizer_args={method=\"bfgs\"}`. Note that they are repeated when the solver starts and that the other parameters can be changed as well by just passing name at initialization as `key=value`.\n"
   ]
  },
  {
   "cell_type": "code",
   "metadata": {
    "ExecuteTime": {
     "end_time": "2024-09-03T15:04:31.491787Z",
     "start_time": "2024-09-03T15:04:31.460851Z"
    }
   },
   "source": [
    "H = tq.paulis.X(0)\n",
    "Upre = tq.gates.X(0)\n",
    "Upost = tq.gates.Y(0)\n",
    "generators = [tq.paulis.Y(0), tq.paulis.Z(0), tq.paulis.X(0)]\n",
    "operator_pool = tq.adapt.AdaptPoolBase(generators=generators)\n",
    "solver = tq.adapt.Adapt(H=H, operator_pool=operator_pool, Upre=Upre, UPost=Upost)\n",
    "result = solver()"
   ],
   "outputs": [
    {
     "name": "stdout",
     "output_type": "stream",
     "text": [
      "Starting Adaptive Solver\n",
      "optimizer_args                 : {'method': 'bfgs', 'silent': True, 'method_options': {'gtol': 1e-05}}\n",
      "compile_args                   : {}\n",
      "maxiter                        : 100\n",
      "energy_convergence             : None\n",
      "gradient_convergence           : 0.001\n",
      "max_gradient_convergence       : 0.0005\n",
      "degeneracy_threshold           : 0.0005\n",
      "silent                         : False\n",
      "operator pool:                 : AdaptPoolBase with 3 Generators\n",
      "objective factory :            : ObjectiveFactoryBase\n",
      "\n",
      "-------------------------------------\n",
      "Finished iteration 0\n",
      "added  [[('0', (0, 0))]]\n",
      "current energy : -1.00000000\n",
      "difference     : +1.00000000\n",
      "grad_norm      : +1.00000000\n",
      "max_grad       : +1.00000000\n",
      "ops in circuis : 1\n",
      "optimizer      : bfgs\n",
      "opt-iterations : 4\n",
      "pool gradient norm is +0.00000000, convergence criterion met\n"
     ]
    }
   ],
   "execution_count": 17
  },
  {
   "cell_type": "markdown",
   "metadata": {},
   "source": [
    "Here is the final circuit. The result is not very surprising.  \n",
    "Note that the adaptive solver gives you back the circuit part that was adaptively constructed.  \n",
    "So in order to get the full circuit with Pre and Post part, you need to assemble it yourself.  \n",
    "This makes it easier for cases, where Pre and Post are only used for the optimization."
   ]
  },
  {
   "cell_type": "code",
   "metadata": {
    "ExecuteTime": {
     "end_time": "2024-09-03T15:04:58.583986Z",
     "start_time": "2024-09-03T15:04:58.580724Z"
    }
   },
   "source": [
    "final_circuit = Upre + result.U + Upost\n",
    "#show(final_circuit, width=200)"
   ],
   "outputs": [],
   "execution_count": 18
  },
  {
   "cell_type": "markdown",
   "metadata": {},
   "source": [
    "![](fig2.png){width=45%}\n",
    "\n",
    "## A Molecular Ground State\n",
    "\n",
    "In the following, we employ the adaptive solver for a Molecular ground state, and we use an operator pool with electronic excitation (unitary-coupled cluster primitives). As a toy model we use a simple helium atom since that executes fast in a notebook.\n",
    "\n",
    "In principle, we could use the standard operator_pool from before, and change the generators accordingly (`mol.make_excitation_generator`).  \n",
    "Is is however better to initialize those gates directly (`mol.make_excitation_gate`), so that tequila can exploit the fermionic information and the optimized gradient framework from [doi.org/10.1039/D0SC06627C](https://doi.org/10.1039/D0SC06627C) can be applied.\n",
    "\n",
    "In the `MolecularPool` this is automatized. The pool can be constructed by handing spin-orbital indices that describe electronic excitations. One example would be `operator_pool = [((0,2),(1,3)), ((0,2)), ((1,3))]` that holds one double excitation (electrons from spin orbitals 0 and 1 are excited to 2 and 3, and vice versa) and two single excitations. For convenience UpCCGSD style pools can be constructed (UpCCD, UpCCSD, UpCCGD, UpCCGSD) by a string keyword. \n"
   ]
  },
  {
   "cell_type": "code",
   "metadata": {
    "ExecuteTime": {
     "end_time": "2024-09-03T15:05:03.359080Z",
     "start_time": "2024-09-03T15:05:03.182511Z"
    }
   },
   "source": [
    "mol = tq.Molecule(geometry=\"He 0.0 0.0 0.0\", basis_set=\"6-31G\")\n",
    "operator_pool = tq.adapt.MolecularPool(molecule=mol, indices=\"UpCCSD\")\n",
    "solver = tq.adapt.Adapt(H=mol.make_hamiltonian(), Upre=mol.prepare_reference(), operator_pool=operator_pool)\n",
    "result = solver(operator_pool=operator_pool, label=0)\n",
    "final_circuit = mol.prepare_reference() + result.U"
   ],
   "outputs": [
    {
     "name": "stdout",
     "output_type": "stream",
     "text": [
      "Starting Adaptive Solver\n",
      "optimizer_args                 : {'method': 'bfgs', 'silent': True, 'method_options': {'gtol': 1e-05}}\n",
      "compile_args                   : {}\n",
      "maxiter                        : 100\n",
      "energy_convergence             : None\n",
      "gradient_convergence           : 0.001\n",
      "max_gradient_convergence       : 0.0005\n",
      "degeneracy_threshold           : 0.0005\n",
      "silent                         : False\n",
      "operator pool:                 : MolecularPool with 3 Generators\n",
      "objective factory :            : ObjectiveFactoryBase\n",
      "\n",
      "-------------------------------------\n",
      "Finished iteration 0\n",
      "added  [[(((0, 2), (1, 3)), (0, 0))]]\n",
      "current energy : -2.87014549\n",
      "difference     : +0.01498506\n",
      "grad_norm      : +0.22767050\n",
      "max_grad       : +0.22767050\n",
      "ops in circuis : 1\n",
      "optimizer      : bfgs\n",
      "opt-iterations : 4\n",
      "detected degeneracies: increasing batch size temporarily from 1 to 2\n",
      "-------------------------------------\n",
      "Finished iteration 1\n",
      "added  [[(((0, 2),), (1, 0))], [(((1, 3),), (1, 0))]]\n",
      "current energy : -2.87016214\n",
      "difference     : +0.00001665\n",
      "grad_norm      : +0.00601940\n",
      "max_grad       : +0.00425636\n",
      "ops in circuis : 3\n",
      "optimizer      : bfgs\n",
      "opt-iterations : 4\n",
      "pool gradient norm is +0.00000230, convergence criterion met\n"
     ]
    }
   ],
   "execution_count": 19
  },
  {
   "cell_type": "markdown",
   "metadata": {},
   "source": [
    "![](fig3.png){width=100%}\n",
    "\n",
    "## The Same Ground State with fixed Post circuit\n",
    "\n",
    "The adaptive run before, did not include single excitations (gradients are below the default thresholds for this ground state). Here we add them fixed as Post circuit as an example. You will observe that the energy does not really change through them in this case."
   ]
  },
  {
   "cell_type": "code",
   "metadata": {
    "ExecuteTime": {
     "end_time": "2024-09-03T15:05:08.681404Z",
     "start_time": "2024-09-03T15:05:08.657183Z"
    }
   },
   "source": [
    "mol = tq.Molecule(geometry=\"He 0.0 0.0 0.0\", basis_set=\"6-31G\")\n",
    "Upost = mol.make_excitation_gate(angle=\"a\", indices=[(0,2)])\n",
    "Upost += mol.make_excitation_gate(angle=\"a\", indices=[(1,3)])"
   ],
   "outputs": [],
   "execution_count": 20
  },
  {
   "cell_type": "markdown",
   "metadata": {},
   "source": [
    "![](fig4.png){width=50%}\n",
    "\n",
    "This Post circuit that we added are single electron excitations that are not all-too important to the Helium ground state, so that the adaptive solver did not include them before. \n",
    "As a Pre circuit we will use the Hartree-Fock reference as before.\n",
    "\n",
    "Note, that we will optimize the parameters \"a\".  \n",
    "You can keep them static by passing for example `static_variables={\"a\":1.0}`.\n",
    "\n",
    "The default starting value is 0.0, you can change that by passing `variables={\"a\":1.0}`.\n",
    "\n",
    "Here, we pass both with `None` (which is the default) to illustrate where they go."
   ]
  },
  {
   "cell_type": "code",
   "metadata": {
    "ExecuteTime": {
     "end_time": "2024-09-03T15:05:13.725142Z",
     "start_time": "2024-09-03T15:05:13.585565Z"
    }
   },
   "source": [
    "operator_pool = tq.adapt.MolecularPool(molecule=mol, indices=\"UpCCSD\")\n",
    "solver = tq.adapt.Adapt(H=mol.make_hamiltonian(),\n",
    "                        Upre=mol.prepare_reference(),\n",
    "                        Upost=Upost,\n",
    "                        operator_pool=operator_pool,\n",
    "                        optimizer_args={\"method\":\"bfgs\", \"silent\":True})\n",
    "result = solver(operator_pool=operator_pool, label=0, static_variables=None, variables=None)\n",
    "final_circuit = mol.prepare_reference() + result.U + Upost"
   ],
   "outputs": [
    {
     "name": "stdout",
     "output_type": "stream",
     "text": [
      "Starting Adaptive Solver\n",
      "optimizer_args                 : {'method': 'bfgs', 'silent': True}\n",
      "compile_args                   : {}\n",
      "maxiter                        : 100\n",
      "energy_convergence             : None\n",
      "gradient_convergence           : 0.001\n",
      "max_gradient_convergence       : 0.0005\n",
      "degeneracy_threshold           : 0.0005\n",
      "silent                         : False\n",
      "operator pool:                 : MolecularPool with 3 Generators\n",
      "objective factory :            : ObjectiveFactoryBase\n",
      "\n",
      "initial optimization\n",
      "-------------------------------------\n",
      "Finished iteration 0\n",
      "added  [[(((0, 2), (1, 3)), (0, 0))]]\n",
      "current energy : -2.87016209\n",
      "difference     : +0.01500166\n",
      "grad_norm      : +0.22767050\n",
      "max_grad       : +0.22767050\n",
      "ops in circuis : 1\n",
      "optimizer      : bfgs\n",
      "opt-iterations : 5\n",
      "pool gradient norm is +0.00041032, convergence criterion met\n"
     ]
    },
    {
     "name": "stderr",
     "output_type": "stream",
     "text": [
      " /opt/anaconda3/envs/BlogQA/lib/python3.9/site-packages/tequila/apps/adapt/adapt.py:161: TequilaWarning:variable a of initial objective not given, setting to 0.0 and activate optimization\n"
     ]
    }
   ],
   "execution_count": 21
  },
  {
   "cell_type": "markdown",
   "metadata": {},
   "source": [
    "![](fig5.png){width=100%}\n",
    "\n",
    "## Molecular Ground and Excited States\n",
    "\n",
    "Finally, we compute the first 3 2-electron eigenstates of the molecule.  \n",
    "We will stay in the 2-electron sector, since our UCC excitations can not break particle symmetry and we are starting with a 2-electron wavefunction (the Hartree-Fock reference). You can try to change the starting state by replacing `UPre` with any circuit you like. \n",
    "\n",
    "In order to compute excited states, we need to minimize a different objective:\n",
    "$$ O = \\langle H \\rangle_{U(\\theta)} + c \\sum_i \\langle \\mathbf{Q}_+ \\rangle_{U_i^{\\dagger}U(\\theta)}, \\quad \\mathbf{Q}_+ = \\lvert 0\\dots0 \\rangle \\langle 0\\dots0 \\rvert $$\n",
    "where $U(\\theta)$ is the adaptive circuit and $U_i$ are all the circuits of the states found before. We chose a large number for $c$ instead of the energies of the corresponding state, since the third state will not be bounded (positive energy).\n",
    "\n",
    "See [doi.org/10.1039/D0SC06627C](https://doi.org/10.1039/D0SC06627C) and its appendix for a more detailed derivation of the objective.\n",
    "\n",
    "Here the objective is constructed automatically in the `ObjectiveFactorySequentialExcitedState` object.  \n",
    "If you want to create your own objective factory: Just look at the source code of that object. In principle, you can pass any object as `objective_factory` that produces a `tequila` objective when given a `tequila` circuit. This is also how it is used within the adapt solver.\n"
   ]
  },
  {
   "cell_type": "code",
   "metadata": {
    "scrolled": true,
    "ExecuteTime": {
     "end_time": "2024-09-03T15:05:28.901797Z",
     "start_time": "2024-09-03T15:05:27.273638Z"
    }
   },
   "source": [
    "mol = tq.Molecule(geometry=\"He 0.0 0.0 0.0\", basis_set=\"6-31G\")\n",
    "operator_pool = tq.adapt.MolecularPool(molecule=mol, indices=\"UpCCSD\")\n",
    "\n",
    "\n",
    "circuits = []\n",
    "variables = {}\n",
    "for state in range(3):\n",
    "    print(\"\\nStarting optimization of state {}\".format(state))\n",
    "    Upre = mol.prepare_reference()\n",
    "    operator_pool = tq.adapt.MolecularPool(molecule=mol, indices=\"UpCCSD\")\n",
    "    objective_factory = tq.adapt.ObjectiveFactorySequentialExcitedState(Upre=mol.prepare_reference(), H=mol.make_hamiltonian(), circuits=circuits, factors=[100.0]*len(circuits))\n",
    "    solver = tq.adapt.Adapt(objective_factory=objective_factory,\n",
    "                                   Upre=mol.prepare_reference(),\n",
    "                                   operator_pool=operator_pool,\n",
    "                                   optimizer_args={\"method\":\"bfgs\", \"silent\":True})\n",
    "    result = solver(operator_pool=operator_pool, label=state, static_variables=variables)\n",
    "    U = Upre + result.U\n",
    "    circuits.append(U)\n",
    "    variables = {**variables, **result.variables}"
   ],
   "outputs": [
    {
     "name": "stdout",
     "output_type": "stream",
     "text": [
      "\n",
      "Starting optimization of state 0\n",
      "Starting Adaptive Solver\n",
      "optimizer_args                 : {'method': 'bfgs', 'silent': True}\n",
      "compile_args                   : {}\n",
      "maxiter                        : 100\n",
      "energy_convergence             : None\n",
      "gradient_convergence           : 0.001\n",
      "max_gradient_convergence       : 0.0005\n",
      "degeneracy_threshold           : 0.0005\n",
      "silent                         : False\n",
      "operator pool:                 : MolecularPool with 3 Generators\n",
      "objective factory :            : ObjectiveFactorySequentialExcitedState\n",
      "\n",
      "-------------------------------------\n",
      "Finished iteration 0\n",
      "added  [[(((0, 2), (1, 3)), (0, 0))]]\n",
      "current energy : -2.87014549\n",
      "difference     : +0.01498506\n",
      "grad_norm      : +0.22767050\n",
      "max_grad       : +0.22767050\n",
      "ops in circuis : 1\n",
      "optimizer      : bfgs\n",
      "opt-iterations : 3\n",
      "detected degeneracies: increasing batch size temporarily from 1 to 2\n",
      "-------------------------------------\n",
      "Finished iteration 1\n",
      "added  [[(((0, 2),), (1, 0))], [(((1, 3),), (1, 0))]]\n",
      "current energy : -2.87016199\n",
      "difference     : +0.00001650\n",
      "grad_norm      : +0.00601850\n",
      "max_grad       : +0.00425564\n",
      "ops in circuis : 3\n",
      "optimizer      : bfgs\n",
      "opt-iterations : 1\n",
      "pool gradient norm is +0.00059847, convergence criterion met\n",
      "\n",
      "Starting optimization of state 1\n",
      "Starting Adaptive Solver\n",
      "optimizer_args                 : {'method': 'bfgs', 'silent': True}\n",
      "compile_args                   : {}\n",
      "maxiter                        : 100\n",
      "energy_convergence             : None\n",
      "gradient_convergence           : 0.001\n",
      "max_gradient_convergence       : 0.0005\n",
      "degeneracy_threshold           : 0.0005\n",
      "silent                         : False\n",
      "operator pool:                 : MolecularPool with 3 Generators\n",
      "objective factory :            : ObjectiveFactorySequentialExcitedState\n",
      "\n",
      "-------------------------------------\n",
      "Finished iteration 0\n",
      "added  [[(((0, 2), (1, 3)), (0, 1))]]\n",
      "current energy : +0.60387428\n",
      "difference     : +96.54096529\n",
      "grad_norm      : +6.33415853\n",
      "max_grad       : +6.32610348\n",
      "ops in circuis : 1\n",
      "optimizer      : bfgs\n",
      "opt-iterations : 3\n",
      "detected degeneracies: increasing batch size temporarily from 1 to 2\n",
      "-------------------------------------\n",
      "Finished iteration 1\n",
      "added  [[(((0, 2),), (1, 1))], [(((1, 3),), (1, 1))]]\n",
      "current energy : -0.94871301\n",
      "difference     : +1.55258729\n",
      "grad_norm      : +0.08015813\n",
      "max_grad       : +0.05668035\n",
      "ops in circuis : 3\n",
      "optimizer      : bfgs\n",
      "opt-iterations : 14\n",
      "pool gradient norm is +0.00017176, convergence criterion met\n",
      "\n",
      "Starting optimization of state 2\n",
      "Starting Adaptive Solver\n",
      "optimizer_args                 : {'method': 'bfgs', 'silent': True}\n",
      "compile_args                   : {}\n",
      "maxiter                        : 100\n",
      "energy_convergence             : None\n",
      "gradient_convergence           : 0.001\n",
      "max_gradient_convergence       : 0.0005\n",
      "degeneracy_threshold           : 0.0005\n",
      "silent                         : False\n",
      "operator pool:                 : MolecularPool with 3 Generators\n",
      "objective factory :            : ObjectiveFactorySequentialExcitedState\n",
      "\n",
      "-------------------------------------\n",
      "Finished iteration 0\n",
      "added  [[(((0, 2), (1, 3)), (0, 2))]]\n",
      "current energy : +0.90931334\n",
      "difference     : +196.23552624\n",
      "grad_norm      : +6.29902570\n",
      "max_grad       : +6.28861085\n",
      "ops in circuis : 1\n",
      "optimizer      : bfgs\n",
      "opt-iterations : 3\n",
      "detected degeneracies: increasing batch size temporarily from 1 to 2\n",
      "-------------------------------------\n",
      "Finished iteration 1\n",
      "added  [[(((0, 2),), (1, 2))], [(((1, 3),), (1, 2))]]\n",
      "current energy : +0.60863698\n",
      "difference     : +0.30067635\n",
      "grad_norm      : +5.06475830\n",
      "max_grad       : +3.58132494\n",
      "ops in circuis : 3\n",
      "optimizer      : bfgs\n",
      "opt-iterations : 4\n",
      "pool gradient norm is +0.00032132, convergence criterion met\n"
     ]
    }
   ],
   "execution_count": 22
  },
  {
   "cell_type": "markdown",
   "metadata": {},
   "source": [
    "Let's take a look at the states we found:"
   ]
  },
  {
   "cell_type": "code",
   "metadata": {
    "ExecuteTime": {
     "end_time": "2024-09-03T15:05:32.317689Z",
     "start_time": "2024-09-03T15:05:32.283152Z"
    }
   },
   "source": [
    "H = mol.make_hamiltonian()\n",
    "for U in circuits:\n",
    "    energy = tq.simulate(tq.ExpectationValue(H=H, U=U), variables=variables)\n",
    "    wfn = tq.simulate(U, variables=variables)\n",
    "    print(\"energy = {:+2.4f}, wfn=\".format(energy), wfn)"
   ],
   "outputs": [
    {
     "name": "stdout",
     "output_type": "stream",
     "text": [
      "energy = -2.8702, wfn= +0.9978|1100> -0.0023|0110> +0.0023|1001> -0.0657|0011> \n",
      "energy = -0.9487, wfn= +0.0068|1100> +0.7060|0110> -0.7060|1001> +0.0549|0011> \n",
      "energy = +0.6086, wfn= +0.0654|1100> -0.0391|0110> +0.0391|1001> +0.9963|0011> \n"
     ]
    }
   ],
   "execution_count": 23
  },
  {
   "cell_type": "markdown",
   "metadata": {},
   "source": [
    "Lets diagonalize the Hamiltonian with numpy and check if we really found eigenstates\n",
    "We will only display states that have overlap with our reference wavefunction ($\\lvert 110000....0\\rangle = \\lvert 2^{N_q -1} + 2^{N_q -2} \\rangle$)  \n",
    "in order to not have too much output here"
   ]
  },
  {
   "cell_type": "code",
   "metadata": {
    "ExecuteTime": {
     "end_time": "2024-09-03T15:06:03.612042Z",
     "start_time": "2024-09-03T15:06:03.582493Z"
    }
   },
   "source": [
    "eigenvalues, eigenvectors = numpy.linalg.eigh(H.to_matrix())\n",
    "n_qubits = H.n_qubits\n",
    "reference_basis_state = 2**(n_qubits-1) + 2**(n_qubits-2)\n",
    "print(\"total states: {}\".format(len(eigenvalues)))\n",
    "print(\"states of interest:\")\n",
    "for i in range(len(eigenvalues)):\n",
    "    if not numpy.isclose(eigenvectors[:,i][reference_basis_state], 0.0, atol=1.e-4):\n",
    "        print(\"energy = {:2.4f}, wfn = \".format(eigenvalues[i]), tq.QubitWaveFunction(eigenvectors[:,i]))"
   ],
   "outputs": [
    {
     "name": "stdout",
     "output_type": "stream",
     "text": [
      "total states: 16\n",
      "states of interest:\n",
      "energy = -2.8702, wfn =  +0.0657|0011> +0.0021|0110> -0.0021|1001> -0.9978|1100> \n",
      "energy = -0.9487, wfn =  -0.0550|0011> -0.7060|0110> +0.7060|1001> -0.0066|1100> \n",
      "energy = 0.6086, wfn =  -0.9963|0011> +0.0391|0110> -0.0391|1001> -0.0655|1100> \n"
     ]
    }
   ],
   "execution_count": 24
  },
  {
   "cell_type": "markdown",
   "metadata": {},
   "source": [
    "Let's also look at the circuits:\n",
    "The singles became more important in the excited states, and where added by the adaptive solver!"
   ]
  },
  {
   "metadata": {},
   "cell_type": "markdown",
   "source": [
    "`circuit[0]`\n",
    "\n",
    "![](fig6.png){width=85%}\n",
    "\n",
    "`circuit[1]`\n",
    "![circuit 1](fig7.png){width=100%}\n",
    "\n",
    "`circuit[2]`\n",
    "![circuit 2](fig8.png){width=100%}\n"
   ]
  },
  {
   "cell_type": "markdown",
   "metadata": {},
   "source": [
    "## Acceleration with multiprocessing\n",
    "\n",
    "You can speed up the screening procedure with multiprocessing (not however, that depending on which backend it is, the quantum backend will also use multiprocessing -- so it is advised to balance the multiprocessing worker threads with `OMP_NUM_THREADS`). Here is the last example with multiprocessing and 2 threads. Note that you need to create a `Psi4` independent molecule object in order to make it suitable for multiprocessing.  \n",
    "\n",
    "We advise not to execute the cell in a jupyter notebook!"
   ]
  },
  {
   "cell_type": "code",
   "execution_count": 14,
   "metadata": {},
   "outputs": [],
   "source": [
    "if False: # let's not execute this here\n",
    "    import tequila as tq\n",
    "    import multiprocessing as mp\n",
    "\n",
    "    mp_pool = mp.Pool(2)\n",
    "\n",
    "    mol = tq.Molecule(geometry=\"He 0.0 0.0 0.0\", basis_set=\"6-31G\")\n",
    "\n",
    "    # decouple from psi4 (psi4 molecules can not be pickled)\n",
    "    mol = tq.chemistry.MoleculeFromOpenFermion(mol.molecule)\n",
    "\n",
    "    operator_pool = tq.adapt.MolecularPool(molecule=mol, indices=\"UpCCSD\")\n",
    "\n",
    "\n",
    "    circuits = []\n",
    "    variables = {}\n",
    "    for state in range(3):\n",
    "        print(\"\\nStarting optimization of state {}\".format(state))\n",
    "        Upre = mol.prepare_reference()\n",
    "        operator_pool = tq.adapt.MolecularPool(molecule=mol, indices=\"UpCCSD\")\n",
    "        objective_factory = tq.adapt.ObjectiveFactorySequentialExcitedState(Upre=mol.prepare_reference(), H=mol.make_hamiltonian(), circuits=circuits, factors=[100.0]*len(circuits))\n",
    "        solver = tq.adapt.Adapt(objective_factory=objective_factory,\n",
    "                                       Upre=mol.prepare_reference(),\n",
    "                                       operator_pool=operator_pool,\n",
    "                                       optimizer_args={\"method\":\"bfgs\", \"silent\":True})\n",
    "        result = solver(operator_pool=operator_pool, label=state, static_variables=variables, mp_pool=mp_pool)\n",
    "        U = Upre + result.U\n",
    "        circuits.append(U)\n",
    "        variables = {**variables, **result.variables}\n",
    "\n",
    "    mp_pool.close()\n",
    "    mp_pool.join()"
   ]
  }
 ],
 "metadata": {
  "kernelspec": {
   "display_name": "Python 3 (ipykernel)",
   "language": "python",
   "name": "python3"
  },
  "language_info": {
   "codemirror_mode": {
    "name": "ipython",
    "version": 3
   },
   "file_extension": ".py",
   "mimetype": "text/x-python",
   "name": "python",
   "nbconvert_exporter": "python",
   "pygments_lexer": "ipython3",
   "version": "3.7.9"
  }
 },
 "nbformat": 4,
 "nbformat_minor": 2
}
