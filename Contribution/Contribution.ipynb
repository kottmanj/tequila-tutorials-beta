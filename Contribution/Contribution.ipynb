{
 "cells": [
  {
   "cell_type": "markdown",
   "metadata": {},
   "source": [
    "---\n",
    "title: \"Contribution\"\n",
    "categories: [code]\n",
    "image-width: \"1cm\"\n",
    "image-height: \"1cm\"\n",
    "format:\n",
    "    html:\n",
    "        code-fold: false\n",
    "        eval: true\n",
    "jupyter: blogqa\n",
    "code-annotations: hover\n",
    "---"
   ]
  },
  {
   "cell_type": "markdown",
   "metadata": {},
   "source": [
    "# How can you upload your own tutorial or research page?\n",
    "\n",
    "Below you will learn how to quickly upload your own tutorial or research page to Tequila:\n",
    "First of all, only ipynb-files or quarto-files are allowed as tutorials or research pages for the website. The following HTML parameters should be placed in the quarto-file above the actual content, if it is an ipynb-file the parameters can be placed in a separate markdown at the top, before the actual content begins:\n",
    "\n",
    "```\n",
    "---\n",
    "title: \"Any title\"\n",
    "author: \"Your full name\"\n",
    "date: \"yyyy-mm-dd\"\n",
    "categories: [code]\n",
    "image-width: \"1cm\"\n",
    "image-height: \"1cm\"\n",
    "format:\n",
    "    html:\n",
    "        code-fold: false\n",
    "        eval: true\n",
    "jupyter: blogqa\n",
    "---\n",
    "```\n",
    "Start and end this section with three hyphens (---)\n",
    "\n",
    "After creating the content, you need to clone the project on Github. \n",
    "Then follow these steps to upload it:\n",
    "\n",
    "1. First, navigate to the `Tutorials/ Researches` folder and create a new subfolder with the name of your tutorial/research.\n",
    "2. This subfolder should contain your ipynb/-file (as well as other necessary files, such as png-files for importing images).\n",
    "3. Then go to the pull requests within GitHub (https://github.com/tequilahub/tequila/pulls) and upload your subfolder here as well.\n",
    "\n",
    "We look forward to your contribution!"
   ]
  }
 ],
 "metadata": {
  "kernelspec": {
   "display_name": "Python 3",
   "language": "python",
   "name": "python3"
  },
  "language_info": {
   "codemirror_mode": {
    "name": "ipython",
    "version": 3
   },
   "file_extension": ".py",
   "mimetype": "text/x-python",
   "name": "python",
   "nbconvert_exporter": "python",
   "pygments_lexer": "ipython3",
   "version": "3.6.9"
  }
 },
 "nbformat": 4,
 "nbformat_minor": 2
}
